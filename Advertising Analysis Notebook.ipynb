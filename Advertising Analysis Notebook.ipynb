{
  "cells": [
    {
      "cell_type": "markdown",
      "source": [
        "**Import necessary libraries**"
      ],
      "metadata": {
        "id": "hNF8xw8JGJLv"
      }
    },
    {
      "cell_type": "code",
      "source": [
        "import pandas as pd\n",
        "import numpy as np\n",
        "import matplotlib.pyplot as plt\n",
        "import seaborn as sns\n",
        "import time\n",
        "import logging\n",
        "import os\n",
        "import re\n",
        "from matplotlib.backends.backend_pdf import PdfPages"
      ],
      "metadata": {
        "id": "TzneFcrwGVW4"
      },
      "execution_count": 43,
      "outputs": []
    },
    {
      "cell_type": "markdown",
      "source": [
        "**Configuration**"
      ],
      "metadata": {
        "id": "H_aEGRpPGhcy"
      }
    },
    {
      "cell_type": "code",
      "source": [
        "INPUT_FILENAME = 'online_advertising_performance_data.csv'\n",
        "OUTPUT_FILENAME = 'top_actions.csv'\n",
        "REPORT_FILENAME = 'Advertising_Performance_Report.pdf'\n",
        "ANALYSIS_YEAR = 2020\n",
        "SAVE_PLOTS = True  # Set to True to save all generated plots to the '/plots' directory"
      ],
      "metadata": {
        "id": "n_5CrhoAGyds"
      },
      "execution_count": 44,
      "outputs": []
    },
    {
      "cell_type": "markdown",
      "source": [
        "**Setup Logging**"
      ],
      "metadata": {
        "id": "nLCNojzEG5hj"
      }
    },
    {
      "cell_type": "code",
      "source": [
        "logging.basicConfig(level=logging.INFO, format='%(asctime)s - %(levelname)s - %(message)s')"
      ],
      "metadata": {
        "id": "RXQyx6JpHFka"
      },
      "execution_count": 45,
      "outputs": []
    },
    {
      "cell_type": "markdown",
      "source": [
        "**Setup Plotting Style**"
      ],
      "metadata": {
        "id": "ygO1WqCNIIAY"
      }
    },
    {
      "cell_type": "code",
      "source": [
        "sns.set_style(\"whitegrid\")\n",
        "plt.rcParams[\"figure.figsize\"] = (10, 6)\n",
        "plt.rcParams[\"figure.dpi\"] = 100\n",
        "logging.info(\"Setup complete. Configuration loaded.\")"
      ],
      "metadata": {
        "id": "qoobP51ZIK7f"
      },
      "execution_count": 46,
      "outputs": []
    },
    {
      "cell_type": "markdown",
      "source": [
        "**Helper Functions**"
      ],
      "metadata": {
        "id": "PN5vwKP5JEye"
      }
    },
    {
      "cell_type": "code",
      "source": [
        "def setup_plot(title, xlabel=None, ylabel=None, figsize=(10, 6)):\n",
        "    \"\"\"\n",
        "    Creates a matplotlib figure and axes with a consistent title and labels.\n",
        "\n",
        "    Returns:\n",
        "        matplotlib.axes.Axes: The plot axes for further manipulation.\n",
        "    \"\"\"\n",
        "    plt.figure(figsize=figsize, dpi=100)\n",
        "    ax = plt.gca()\n",
        "    ax.set_title(title, fontsize=14, fontweight='bold')\n",
        "    if xlabel:\n",
        "        ax.set_xlabel(xlabel)\n",
        "    if ylabel:\n",
        "        ax.set_ylabel(ylabel)\n",
        "    return ax\n",
        "\n",
        "def finalize_plot(title, save_plots=False, tight_layout=True, pdf_pages=None):\n",
        "    \"\"\"\n",
        "    Applies final layout adjustments, saves the plot if requested, and displays it.\n",
        "\n",
        "    Args:\n",
        "        title (str): The title of the plot, used for the filename.\n",
        "        save_plots (bool): If True, saves the figure to the 'plots' directory.\n",
        "        tight_layout (bool): If True, applies plt.tight_layout().\n",
        "        pdf_pages (PdfPages object, optional): If provided, saves the figure to the PDF.\n",
        "    \"\"\"\n",
        "    if tight_layout:\n",
        "        plt.tight_layout()\n",
        "\n",
        "    if pdf_pages:\n",
        "        pdf_pages.savefig(plt.gcf())\n",
        "        plt.close()\n",
        "    else:\n",
        "        if save_plots:\n",
        "            output_dir = 'plots'\n",
        "            if not os.path.exists(output_dir):\n",
        "                os.makedirs(output_dir)\n",
        "            safe_filename = re.sub(r'[^\\w\\s-]', '', title).strip().replace(' ', '_')\n",
        "            filepath = os.path.join(output_dir, f\"{safe_filename}.png\")\n",
        "            try:\n",
        "                plt.savefig(filepath, bbox_inches='tight')\n",
        "                logging.info(f\"Plot saved: {filepath}\")\n",
        "            except Exception as e:\n",
        "                logging.error(f\"Failed to save plot {filepath}: {e}\")\n",
        "        plt.show()\n",
        "        plt.close()\n",
        "\n",
        "def add_text_to_pdf(text_content, pdf_pages_obj):\n",
        "    \"\"\"Renders a string of text onto a new page in the PDF report.\"\"\"\n",
        "    fig = plt.figure(figsize=(8.5, 11))\n",
        "    fig.text(0.05, 0.95, text_content, ha='left', va='top', wrap=True, fontsize=8, fontfamily='monospace')\n",
        "    pdf_pages_obj.savefig(fig)\n",
        "    plt.close(fig)\n",
        "\n",
        "def compute_kpis(data):\n",
        "    \"\"\"\n",
        "    Computes CTR, CPC, RPC, CVR, AOV, and ROAS from base metrics.\n",
        "\n",
        "    Note: A copy of the DataFrame is made to prevent unintended side effects\n",
        "    on the original DataFrame, which is a safer practice.\n",
        "\n",
        "    Args:\n",
        "        data (pd.DataFrame): DataFrame with base metrics.\n",
        "\n",
        "    Returns:\n",
        "        pd.DataFrame: DataFrame with added KPI columns.\n",
        "    \"\"\"\n",
        "    df_kpi = data.copy()\n",
        "    # Use np.nan for division by zero to correctly calculate means later\n",
        "    df_kpi['ctr'] = df_kpi['clicks'] / df_kpi['displays'].replace(0, np.nan)\n",
        "    df_kpi['cpc'] = df_kpi['cost'] / df_kpi['clicks'].replace(0, np.nan)\n",
        "    df_kpi['rpc'] = df_kpi['revenue'] / df_kpi['clicks'].replace(0, np.nan)\n",
        "    df_kpi['cvr'] = df_kpi['conversions'] / df_kpi['clicks'].replace(0, np.nan)\n",
        "    df_kpi['aov'] = df_kpi['sales'] / df_kpi['conversions'].replace(0, np.nan)\n",
        "    df_kpi['roas'] = df_kpi['revenue'] / df_kpi['cost'].replace(0, np.nan)\n",
        "    return df_kpi.fillna(0)"
      ],
      "metadata": {
        "id": "d_VncLw9KfOz"
      },
      "execution_count": 47,
      "outputs": []
    },
    {
      "cell_type": "markdown",
      "source": [
        "**Data Loading and Cleaning**"
      ],
      "metadata": {
        "id": "TOpKr2yBK3se"
      }
    },
    {
      "cell_type": "code",
      "source": [
        "start_time = time.time()\n",
        "logging.info(f\"Loading data from {INPUT_FILENAME}...\")\n",
        "\n",
        "try:\n",
        "    df = pd.read_csv(INPUT_FILENAME)\n",
        "    logging.info(\"Data loaded successfully.\")\n",
        "    # Standardize column names\n",
        "    df.columns = df.columns.str.lower().str.replace(' ', '_').str.replace('#n/a', 'unknown', regex=False)\n",
        "    # Remove empty 'unnamed' columns that can result from CSV export issues\n",
        "    df = df.loc[:, ~df.columns.str.contains('^unnamed')]\n",
        "    logging.info(\"Removed unnamed columns.\")\n",
        "    # Drop rows where essential date components are missing\n",
        "    df.dropna(subset=['month', 'day'], inplace=True)\n",
        "    # Parse dates using the configured year\n",
        "    df['date'] = pd.to_datetime(f'{ANALYSIS_YEAR}-' + df['month'] + '-' + df['day'].astype(str), errors='coerce')\n",
        "    df.dropna(subset=['date'], inplace=True) # Drop rows where date conversion failed\n",
        "    # Handle missing and inconsistent placements\n",
        "    df['placement'] = df['placement'].fillna('Unknown')\n",
        "    df.loc[df['placement'] == 'unknown', 'placement'] = 'Unknown'\n",
        "    # Convert numeric types, coercing errors to 0\n",
        "    numeric_cols = ['displays', 'cost', 'clicks', 'revenue', 'post_click_conversions', 'post_click_sales_amount']\n",
        "    for col in numeric_cols:\n",
        "        df[col] = pd.to_numeric(df[col], errors='coerce').fillna(0)\n",
        "    # Handle any remaining nulls in object columns by filling with 'Unknown'\n",
        "    for col in df.select_dtypes(include=['object']).columns:\n",
        "        df[col] = df[col].fillna('Unknown')\n",
        "    # Rename columns for clarity and convenience\n",
        "    df.rename(columns={\n",
        "        'post_click_conversions': 'conversions',\n",
        "        'post_click_sales_amount': 'sales'\n",
        "    }, inplace=True)\n",
        "\n",
        "    # --- Data Validation ---\n",
        "    logging.info(\"Validating data integrity...\")\n",
        "    assert df['cost'].min() >= 0, \"Validation Failed: Cost contains negative values\"\n",
        "    assert df['displays'].min() >= 0, \"Validation Failed: Displays contains negative values\"\n",
        "    assert df['clicks'].min() >= 0, \"Validation Failed: Clicks contains negative values\"\n",
        "    assert df['revenue'].min() >= 0, \"Validation Failed: Revenue contains negative values\"\n",
        "    assert df['conversions'].min() >= 0, \"Validation Failed: Conversions contains negative values\"\n",
        "    assert df['sales'].min() >= 0, \"Validation Failed: Sales contains negative values\"\n",
        "    assert df['date'].min() >= pd.to_datetime(f'{ANALYSIS_YEAR}-04-01'), \"Validation Failed: Date range starts before April\"\n",
        "    assert df['date'].max() <= pd.to_datetime(f'{ANALYSIS_YEAR}-06-30'), \"Validation Failed: Date range extends beyond June\"\n",
        "\n",
        "    # Final check for any remaining null values\n",
        "    assert df.isnull().sum().sum() == 0, \"Validation Failed: Null values still remain after cleaning\"\n",
        "\n",
        "    logging.info(\"Data cleaning and validation successful.\")\n",
        "    df.info()\n",
        "\n",
        "except FileNotFoundError:\n",
        "    logging.error(f\"Error: The file '{INPUT_FILENAME}' was not found.\")\n",
        "    df = pd.DataFrame() # Create an empty df to prevent further errors\n",
        "\n",
        "loading_time = time.time() - start_time\n",
        "logging.info(f\"Data Loading & Cleaning took {loading_time:.2f} seconds.\")\n"
      ],
      "metadata": {
        "colab": {
          "base_uri": "https://localhost:8080/"
        },
        "id": "2AvArJFoLXPb",
        "outputId": "de22acb7-b336-4105-fd69-cb33a37dece5"
      },
      "execution_count": 48,
      "outputs": [
        {
          "output_type": "stream",
          "name": "stdout",
          "text": [
            "<class 'pandas.core.frame.DataFrame'>\n",
            "RangeIndex: 15408 entries, 0 to 15407\n",
            "Data columns (total 13 columns):\n",
            " #   Column           Non-Null Count  Dtype         \n",
            "---  ------           --------------  -----         \n",
            " 0   month            15408 non-null  object        \n",
            " 1   day              15408 non-null  int64         \n",
            " 2   campaign_number  15408 non-null  object        \n",
            " 3   user_engagement  15408 non-null  object        \n",
            " 4   banner           15408 non-null  object        \n",
            " 5   placement        15408 non-null  object        \n",
            " 6   displays         15408 non-null  int64         \n",
            " 7   cost             15408 non-null  float64       \n",
            " 8   clicks           15408 non-null  int64         \n",
            " 9   revenue          15408 non-null  float64       \n",
            " 10  conversions      15408 non-null  int64         \n",
            " 11  sales            15408 non-null  float64       \n",
            " 12  date             15408 non-null  datetime64[ns]\n",
            "dtypes: datetime64[ns](1), float64(3), int64(4), object(5)\n",
            "memory usage: 1.5+ MB\n"
          ]
        }
      ]
    },
    {
      "cell_type": "markdown",
      "source": [
        "**KPI Engineering**"
      ],
      "metadata": {
        "id": "jjpBidtRMM3n"
      }
    },
    {
      "cell_type": "code",
      "source": [
        "if not df.empty:\n",
        "    start_time = time.time()\n",
        "\n",
        "    df_kpi = compute_kpis(df)\n",
        "    logging.info(\"KPIs (CTR, CPC, CVR, ROAS, etc.) computed and added to the DataFrame.\")\n",
        "\n",
        "    kpi_time = time.time() - start_time\n",
        "    logging.info(f\"KPI Engineering took {kpi_time:.2f} seconds.\")\n",
        "\n",
        "    df_kpi.head()"
      ],
      "metadata": {
        "id": "-ENa4e5HMReU"
      },
      "execution_count": 49,
      "outputs": []
    },
    {
      "cell_type": "markdown",
      "source": [
        "**Answering Business Questions**"
      ],
      "metadata": {
        "id": "JMnsro2qMjHr"
      }
    },
    {
      "cell_type": "code",
      "source": [
        "if not df.empty:\n",
        "    analysis_start_time = time.time()\n",
        "    # Initialize the PDF report object\n",
        "    pdf_report = PdfPages(REPORT_FILENAME)\n",
        "    # Add a title page to the report\n",
        "    title_page_text = (\n",
        "        f\"Online Advertising Performance Report\\n\\n\"\n",
        "        f\"Date Range: April 2020 - June 2020\\n\"\n",
        "        f\"Generated on: {pd.Timestamp.now().strftime('%Y-%m-%d %H:%M:%S')}\"\n",
        "    )\n",
        "    add_text_to_pdf(title_page_text, pdf_report)\n",
        "\n",
        "    #Q1: Trend in engagement over time?\n",
        "    daily_engagement_revenue = df_kpi.groupby(['date', 'user_engagement'])['revenue'].sum().unstack().fillna(0)\n",
        "    ax = setup_plot('Daily Revenue by User Engagement', ylabel='Total Revenue')\n",
        "    daily_engagement_revenue.plot(ax=ax)\n",
        "    finalize_plot('Daily Revenue by User Engagement', save_plots=SAVE_PLOTS, pdf_pages=pdf_report)\n",
        "\n",
        "    #Q2: Banner size vs clicks?\n",
        "    banner_clicks = df_kpi.groupby('banner')['clicks'].sum().sort_values(ascending=False)\n",
        "    ax = setup_plot('Total Clicks by Banner Size', ylabel='Total Clicks')\n",
        "    banner_clicks.plot(kind='bar', ax=ax)\n",
        "    plt.xticks(rotation=45, ha='right')\n",
        "    finalize_plot('Total Clicks by Banner Size', save_plots=SAVE_PLOTS, pdf_pages=pdf_report)\n",
        "\n",
        "    #Q3: Top placements by displays and clicks?\n",
        "    placement_summary = df_kpi.groupby('placement').agg(\n",
        "        total_displays=('displays', 'sum'),\n",
        "        total_clicks=('clicks', 'sum')\n",
        "    ).sort_values('total_displays', ascending=False).head(5)\n",
        "    q3_text = \"Top 5 Placements by Volume \\n\" + placement_summary.to_markdown(floatfmt=\".2f\")\n",
        "    logging.info(q3_text)\n",
        "    add_text_to_pdf(q3_text, pdf_report)\n",
        "\n",
        "    #Q4: Cost vs revenue correlation?\n",
        "    correlation = df_kpi['cost'].corr(df_kpi['revenue'])\n",
        "    title = f'Cost vs. Revenue (Correlation: {correlation:.2f})'\n",
        "    ax = setup_plot(title, xlabel='Cost', ylabel='Revenue')\n",
        "    sns.scatterplot(data=df_kpi, x='cost', y='revenue', alpha=0.5, ax=ax)\n",
        "    finalize_plot('Cost vs Revenue', save_plots=SAVE_PLOTS, pdf_pages=pdf_report)\n",
        "\n",
        "    #Q5: Average revenue per click?\n",
        "    total_revenue = df_kpi['revenue'].sum()\n",
        "    total_clicks = df_kpi['clicks'].sum()\n",
        "    avg_rpc = total_revenue / total_clicks if total_clicks > 0 else 0\n",
        "    q5_text = f\"Overall Average Revenue Per Click (RPC): ${avg_rpc:.4f} ---\"\n",
        "    logging.info(q5_text)\n",
        "    add_text_to_pdf(q5_text, pdf_report)\n",
        "\n",
        "    #Q6: Highest post-click conversion rates by campaign?\n",
        "    campaign_cvr = df_kpi.groupby('campaign_number')['cvr'].mean().sort_values(ascending=False)\n",
        "    ax = setup_plot('Average Conversion Rate (CVR) by Campaign', ylabel='Average CVR')\n",
        "    campaign_cvr.plot(kind='bar', ax=ax)\n",
        "    plt.xticks(rotation=0)\n",
        "    finalize_plot('Average Conversion Rate (CVR) by Campaign', save_plots=SAVE_PLOTS, pdf_pages=pdf_report)\n",
        "\n",
        "    #Q7: Post-click sales trend?\n",
        "    daily_sales = df_kpi.groupby('date')['sales'].sum()\n",
        "    ax = setup_plot('Daily Post-Click Sales Amount', ylabel='Total Sales ($)')\n",
        "    daily_sales.plot(ax=ax)\n",
        "    finalize_plot('Daily Post-Click Sales Amount', save_plots=SAVE_PLOTS, pdf_pages=pdf_report)\n",
        "\n",
        "    #Q8: Engagement by banner size?\n",
        "    engagement_banner_cvr = df_kpi.groupby(['user_engagement', 'banner'])['cvr'].mean().unstack()\n",
        "    ax = setup_plot('Heatmap of CVR by Engagement and Banner Size')\n",
        "    sns.heatmap(engagement_banner_cvr, annot=True, fmt=\".2%\", cmap=\"YlGnBu\", ax=ax)\n",
        "    finalize_plot('Heatmap of CVR by Engagement and Banner Size', save_plots=SAVE_PLOTS, tight_layout=False, pdf_pages=pdf_report)\n",
        "\n",
        "    # ### Q9: Placement with highest CVR?\n",
        "    placement_cvr = df_kpi.groupby('placement')['cvr'].mean().sort_values(ascending=False).head(5)\n",
        "    q9_text = \"Top 5 Placements by Average CVR\\n\" + placement_cvr.to_markdown(floatfmt=\".2%\")\n",
        "    logging.info(q9_text)\n",
        "    add_text_to_pdf(q9_text, pdf_report)\n",
        "\n",
        "    #Q10 & Q19: Seasonal and Day-of-week patterns?\n",
        "    df_kpi['day_of_week'] = df_kpi['date'].dt.day_name()\n",
        "    dow_patterns = df_kpi.groupby('day_of_week')[['displays', 'clicks', 'cvr']].mean().reindex(\n",
        "        ['Monday', 'Tuesday', 'Wednesday', 'Thursday', 'Friday', 'Saturday', 'Sunday']\n",
        "    )\n",
        "    dow_patterns.plot(kind='bar', subplots=True, layout=(3,1), legend=False,\n",
        "                      title='Average Daily Performance by Day of Week', figsize=(10, 8))\n",
        "    finalize_plot('Average Daily Performance by Day of Week', save_plots=SAVE_PLOTS, pdf_pages=pdf_report)\n",
        "\n",
        "    #Q11: Engagement vs revenue?\n",
        "    engagement_revenue = df_kpi.groupby('user_engagement')['revenue'].sum().sort_values()\n",
        "    ax = setup_plot('Share of Revenue by User Engagement')\n",
        "    engagement_revenue.plot(kind='pie', autopct='%1.1f%%', ax=ax, startangle=90)\n",
        "    ax.set_ylabel('') # Clean up pie chart\n",
        "    finalize_plot('Share of Revenue by User Engagement', save_plots=SAVE_PLOTS, pdf_pages=pdf_report)\n",
        "\n",
        "    #Q12: Outliers?\n",
        "    cpc_std = df_kpi['cpc'].std()\n",
        "    denominator = cpc_std if cpc_std > 0 else 1\n",
        "    df_kpi['cpc_zscore'] = np.abs((df_kpi['cpc'] - df_kpi['cpc'].mean()) / denominator)\n",
        "    outliers = df_kpi[df_kpi['cpc_zscore'] > 3]\n",
        "    q12_text = f\"Found {len(outliers)} records with CPC z-score > 3 (potential outliers).\"\n",
        "    logging.info(q12_text)\n",
        "    add_text_to_pdf(q12_text, pdf_report)\n",
        "\n",
        "    #Q13: Effectiveness by size and placement?\n",
        "    roas_pivot = df_kpi.groupby(['banner', 'placement'])['roas'].mean().unstack().fillna(0)\n",
        "    ax = setup_plot('Average ROAS by Banner and Placement', figsize=(8, 6))\n",
        "    sns.heatmap(roas_pivot, cmap=\"Greens\", annot=True, fmt=\".1f\", linewidths=.5, ax=ax)\n",
        "    finalize_plot('Average ROAS by Banner and Placement', save_plots=SAVE_PLOTS, tight_layout=False, pdf_pages=pdf_report)\n",
        "\n",
        "    #Q14: Consistent ROI by banner?\n",
        "    median_roas_banner = df_kpi.groupby('banner')['roas'].median().sort_values(ascending=False).head(5)\n",
        "    ax = setup_plot('Top 5 Banners by Median Daily ROAS', ylabel='Median ROAS')\n",
        "    median_roas_banner.plot(kind='bar', ax=ax)\n",
        "    plt.xticks(rotation=45, ha='right')\n",
        "    finalize_plot('Top 5 Banners by Median Daily ROAS', save_plots=SAVE_PLOTS, pdf_pages=pdf_report)\n",
        "\n",
        "    #Q15: Conversions by placement?\n",
        "    placement_conversions = df_kpi.groupby('placement')['conversions'].sum().sort_values(ascending=False).head(10)\n",
        "    ax = setup_plot('Top 10 Placements by Total Conversions', ylabel='Total Conversions')\n",
        "    placement_conversions.plot(kind='bar', ax=ax)\n",
        "    plt.xticks(rotation=45, ha='right')\n",
        "    finalize_plot('Top 10 Placements by Total Conversions', save_plots=SAVE_PLOTS, pdf_pages=pdf_report)\n",
        "\n",
        "    #Q16: Weekday vs weekend performance?\n",
        "    df_kpi['day_type'] = np.where(df_kpi['date'].dt.dayofweek < 5, 'Weekday', 'Weekend')\n",
        "    comparison = df_kpi.groupby('day_type')[['ctr', 'cpc', 'cvr']].mean()\n",
        "    q16_text = \"Average Performance: Weekday vs. Weekend\\n\" + comparison.to_markdown(floatfmt=\".4f\")\n",
        "    logging.info(q16_text)\n",
        "    add_text_to_pdf(q16_text, pdf_report)\n",
        "\n",
        "    #Q17: CPC by campaign and banner?\n",
        "    cpc_pivot = df_kpi.groupby(['campaign_number', 'banner'])['cpc'].mean().unstack()\n",
        "    cpc_pivot.plot(kind='bar', subplots=True, layout=(3,3), figsize=(12, 10), legend=False, sharey=True)\n",
        "    plt.suptitle('Average CPC by Banner for Each Campaign', y=1.02, fontsize=16, fontweight='bold')\n",
        "    finalize_plot('Average CPC by Banner for Each Campaign', save_plots=SAVE_PLOTS, pdf_pages=pdf_report)\n",
        "\n",
        "    #Q18: Cost-effective conversions (CPA)?\n",
        "    cpa_df = df_kpi.groupby(['banner', 'placement']).agg(\n",
        "        total_cost=('cost', 'sum'),\n",
        "        total_conversions=('conversions', 'sum')\n",
        "    ).reset_index()\n",
        "    cpa_df['cpa'] = cpa_df['total_cost'] / cpa_df['total_conversions'].replace(0, np.nan)\n",
        "    cost_effective = cpa_df.dropna().sort_values('cpa').head(5)\n",
        "    q18_text = \"Top 5 Most Cost-Effective Combos by CPA\\n\" + cost_effective[['banner', 'placement', 'cpa']].to_markdown(index=False, floatfmt=\".2f\")\n",
        "    logging.info(q18_text)\n",
        "    add_text_to_pdf(q18_text, pdf_report)\n",
        "\n",
        "    #Q20: Effectiveness by engagement type?\n",
        "    engagement_effectiveness = df_kpi.groupby('user_engagement')[['cvr', 'roas']].mean().sort_values('roas', ascending=False)\n",
        "    q20_text = \"Effectiveness by Engagement Type\\n\" + engagement_effectiveness.to_markdown(floatfmt=\".2%\")\n",
        "    logging.info(q20_text)\n",
        "    add_text_to_pdf(q20_text, pdf_report)\n",
        "\n",
        "    analysis_time = time.time() - analysis_start_time\n",
        "    logging.info(f\"Business Analysis (20 Questions) took {analysis_time:.2f} seconds.\")"
      ],
      "metadata": {
        "id": "7TPsCof-MkJw"
      },
      "execution_count": 40,
      "outputs": []
    },
    {
      "cell_type": "markdown",
      "source": [
        "**Synergy Score & Bandit Simulation**"
      ],
      "metadata": {
        "id": "GFJKUUjnP5DX"
      }
    },
    {
      "cell_type": "code",
      "source": [
        "# A custom score to find optimal banner/placement pairs and a simulation to estimate the impact of budget reallocation.\n",
        "if not df.empty:\n",
        "    twist_start_time = time.time()\n",
        "\n",
        "    #Synergy Score: z(RPC) + z(CVR) − z(CPC)\n",
        "    combo_perf = df_kpi.groupby(['banner', 'placement']).agg(\n",
        "        avg_rpc=('rpc', 'mean'), avg_cvr=('cvr', 'mean'), avg_cpc=('cpc', 'mean'),\n",
        "        total_spend=('cost', 'sum'), total_sales=('sales', 'sum')\n",
        "    ).reset_index()\n",
        "\n",
        "    for kpi in ['avg_rpc', 'avg_cvr', 'avg_cpc']:\n",
        "        mean = combo_perf[kpi].mean()\n",
        "        std = combo_perf[kpi].std()\n",
        "        combo_perf[f'z_{kpi}'] = (combo_perf[kpi] - mean) / std if std > 0 else 0\n",
        "\n",
        "    combo_perf['synergy_score'] = (combo_perf['z_avg_rpc'] + combo_perf['z_avg_cvr'] - combo_perf['z_avg_cpc']).fillna(0)\n",
        "\n",
        "    top_synergy = combo_perf.sort_values('synergy_score', ascending=False).head()[['banner', 'placement', 'synergy_score']]\n",
        "    synergy_text = \"Top 5 Banner/Placement Combos by Synergy Score\\n\" + top_synergy.to_markdown(index=False)\n",
        "    logging.info(synergy_text)\n",
        "    add_text_to_pdf(synergy_text, pdf_report)\n",
        "\n",
        "    #Beginner Bandit Simulation\n",
        "    spend_to_reallocate = combo_perf['total_spend'].sum() * 0.10\n",
        "    bottom_20_percentile = combo_perf['synergy_score'].quantile(0.2)\n",
        "    top_20_percentile = combo_perf['synergy_score'].quantile(0.8)\n",
        "\n",
        "    top_performers = combo_perf[combo_perf['synergy_score'] >= top_20_percentile]\n",
        "    avg_roas_top = (top_performers['total_sales'].sum() / top_performers['total_spend'].sum()) if top_performers['total_spend'].sum() > 0 else 0\n",
        "\n",
        "    estimated_sales_gain = spend_to_reallocate * avg_roas_top\n",
        "    original_total_sales = df_kpi['sales'].sum()\n",
        "    estimated_uplift_percent = ((estimated_sales_gain - spend_to_reallocate) / original_total_sales) * 100 if original_total_sales > 0 else 0\n",
        "\n",
        "    simulation_text = (\n",
        "        f\"Budget Reallocation Simulation\\n\"\n",
        "        f\"Reallocating ${spend_to_reallocate:,.2f} (10% of spend)...\\n\"\n",
        "        f\"Estimated Sales Gain: ${estimated_sales_gain - spend_to_reallocate:,.2f}\\n\"\n",
        "        f\"Estimated Uplift: {estimated_uplift_percent:.2f}%\"\n",
        "    )\n",
        "    logging.info(simulation_text)\n",
        "    add_text_to_pdf(simulation_text, pdf_report)\n",
        "\n",
        "    #Export Top Actions\n",
        "    bottom_performers = combo_perf[combo_perf['synergy_score'] <= bottom_20_percentile]\n",
        "    pause_candidates = bottom_performers[['banner', 'placement', 'synergy_score']].sort_values('synergy_score').head()\n",
        "    scale_candidates = top_performers[['banner', 'placement', 'synergy_score']].sort_values('synergy_score', ascending=False).head()\n",
        "\n",
        "    actions_df = pd.DataFrame({\n",
        "        'Action': ['Scale'] * 5 + ['Pause'] * 5,\n",
        "        'Banner': list(scale_candidates['banner']) + list(pause_candidates['banner']),\n",
        "        'Placement': list(scale_candidates['placement']) + list(pause_candidates['placement']),\n",
        "        'Synergy Score': list(scale_candidates['synergy_score']) + list(pause_candidates['synergy_score']),\n",
        "        'Estimated Impact': f\"Part of a 10% budget shift strategy estimated to generate a {estimated_uplift_percent:.2f}% sales uplift.\"\n",
        "    })\n",
        "\n",
        "    actions_df.to_csv(OUTPUT_FILENAME, index=False)\n",
        "    logging.info(f\"'{OUTPUT_FILENAME}' has been exported with scaling and pausing recommendations.\")\n",
        "\n",
        "    twist_time = time.time() - twist_start_time\n",
        "    logging.info(f\"Synergy Score & Simulation took {twist_time:.2f} seconds.\")"
      ],
      "metadata": {
        "id": "fq32TdkaP67D"
      },
      "execution_count": 41,
      "outputs": []
    },
    {
      "cell_type": "markdown",
      "source": [
        "**Finalize and Save Report**"
      ],
      "metadata": {
        "id": "fUtSE895QcYc"
      }
    },
    {
      "cell_type": "code",
      "source": [
        "if not df.empty:\n",
        "    # Add the final summary and recommendations page\n",
        "    summary_text = \"\"\"\n",
        "    Executive Summary:\n",
        "    1. This report details the performance of online advertising campaigns from April to June 2020.\n",
        "    2. The analysis reveals several key drivers of success, most notably the immense value of the\n",
        "    'High' user engagement segment, which accounts for nearly 80% of all revenue. Performance\n",
        "    is strongest mid-week, and specific combinations of ad placements and banner sizes, such as\n",
        "    the 300x250 banner on placement 'ghi', deliver exceptionally high returns. A \"Synergy Score\"\n",
        "    was developed to identify high-potential ad combinations, and a simulation suggests that\n",
        "    reallocating just 10% of the budget from the worst to the best performers could yield a\n",
        "    significant sales uplift.\n",
        "    ---------------------------------------------------------------------------------------------\n",
        "    Strategic Recommendations & Next Steps:\n",
        "    1. Target High-Engagement Users: This segment provides ~80% of revenue and converts\n",
        "        effectively across all formats. Focus budget and creative efforts here.\n",
        "    2. Optimize Placements: 'ghi' and 'mno' are top for volume and conversions. Prioritize\n",
        "        these placements and investigate what makes them successful to find similar opportunities.\n",
        "        The 300x250 banner on 'ghi' is a star performer with a high ROAS.\n",
        "    3. Leverage Top Creatives: The 240x400 and 728x90 banners drive the most clicks, while\n",
        "        the 580x400 banner shows the most consistent day-to-day ROI. Ensure these are always\n",
        "        active in campaigns.\n",
        "    4. Mid-Week Conversion Push: Conversion rates peak from Tuesday to Thursday. Consider\n",
        "        increasing bids or launching promotions during this window to maximize results.\n",
        "   ----------------------------------------------------------------------------------------------\n",
        "    Potential Next Steps:\n",
        "    1. A/B Testing: Formally test the banner/placement combinations identified by the Synergy Score\n",
        "        to validate their performance.\n",
        "    2. Predictive Modeling: Build a model to predict the ROAS of a campaign based on features\n",
        "        like placement, banner size, and target audience.\n",
        "    3. Interactive Dashboard: Develop a dashboard (using tools like Streamlit or Panel) to allow\n",
        "        marketing teams to explore this data and filter by campaign, date, or other dimensions\n",
        "        interactively.\n",
        "    \"\"\"\n",
        "    add_text_to_pdf(summary_text, pdf_report)\n",
        "    # Close and save the PDF file\n",
        "    pdf_report.close()\n",
        "    logging.info(f\"Successfully generated and saved the full report to: {REPORT_FILENAME}\")\n",
        "    # Print a final summary to the console for a quick overview\n",
        "    print(\"\\n\" + \"=\"*80)\n",
        "    print(\" \" * 25 + \"ADVERTISING ANALYSIS COMPLETE\")\n",
        "    print(\"=\"*80)\n",
        "    print(f\"A comprehensive PDF report has been saved as: {REPORT_FILENAME}\")\n",
        "    print(f\"A CSV with actionable recommendations has been saved as: {OUTPUT_FILENAME}\")\n",
        "    print(\"\\nKEY STRATEGIC RECOMMENDATIONS\")\n",
        "    print(\"1. Target High-Engagement Users: This segment provides ~80% of revenue.\")\n",
        "    print(\"2. Optimize Placements: 'ghi' and 'mno' are top for volume and conversions.\")\n",
        "    print(\"3. Leverage Top Creatives: 240x400 and 728x90 banners drive the most clicks.\")\n",
        "    print(\"4. Mid-Week Conversion Push: CVRs peak from Tuesday to Thursday.\")\n",
        "    print(\"=\"*80)\n",
        "logging.info(\"Notebook execution finished.\")"
      ],
      "metadata": {
        "colab": {
          "base_uri": "https://localhost:8080/"
        },
        "id": "Oc5a5sEwQXiX",
        "outputId": "2156110f-0ca6-4039-c969-01772a078aba"
      },
      "execution_count": 42,
      "outputs": [
        {
          "output_type": "stream",
          "name": "stdout",
          "text": [
            "\n",
            "================================================================================\n",
            "                         ADVERTISING ANALYSIS COMPLETE\n",
            "================================================================================\n",
            "A comprehensive PDF report has been saved as: Advertising_Performance_Report.pdf\n",
            "A CSV with actionable recommendations has been saved as: top_actions.csv\n",
            "\n",
            "KEY STRATEGIC RECOMMENDATIONS\n",
            "1. Target High-Engagement Users: This segment provides ~80% of revenue.\n",
            "2. Optimize Placements: 'ghi' and 'mno' are top for volume and conversions.\n",
            "3. Leverage Top Creatives: 240x400 and 728x90 banners drive the most clicks.\n",
            "4. Mid-Week Conversion Push: CVRs peak from Tuesday to Thursday.\n",
            "================================================================================\n"
          ]
        }
      ]
    }
  ],
  "metadata": {
    "colab": {
      "provenance": []
    },
    "kernelspec": {
      "display_name": "Python 3",
      "name": "python3"
    }
  },
  "nbformat": 4,
  "nbformat_minor": 0
}